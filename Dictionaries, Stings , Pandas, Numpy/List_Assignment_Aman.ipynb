{
 "cells": [
  {
   "cell_type": "markdown",
   "id": "a5bb8daa",
   "metadata": {},
   "source": [
    "* Create a list named as input_list where the elements are \"name_1\",1,2,3,\"name_2\",5,6,7,8,\"name_3\",9,10,11,12."
   ]
  },
  {
   "cell_type": "code",
   "execution_count": 39,
   "id": "cfb13f86",
   "metadata": {},
   "outputs": [
    {
     "name": "stdout",
     "output_type": "stream",
     "text": [
      "['name_1', 1, 2, 3, 'name_2', 5, 6, 7, 8, 'name_3', 9, 10, 11, 12]\n"
     ]
    }
   ],
   "source": [
    "input_list = [\"name_1\",1,2,3,\"name_2\",5,6,7,8,\"name_3\",9,10,11,12]\n",
    "print (input_list)"
   ]
  },
  {
   "cell_type": "markdown",
   "id": "d590506d",
   "metadata": {},
   "source": [
    "* Print what is the length of input_list"
   ]
  },
  {
   "cell_type": "code",
   "execution_count": 19,
   "id": "4677e2a9",
   "metadata": {},
   "outputs": [
    {
     "data": {
      "text/plain": [
       "14"
      ]
     },
     "execution_count": 19,
     "metadata": {},
     "output_type": "execute_result"
    }
   ],
   "source": [
    "len(input_list)"
   ]
  },
  {
   "cell_type": "markdown",
   "id": "eba5872d",
   "metadata": {},
   "source": [
    "* Add one element \"name_4\" into the input_list"
   ]
  },
  {
   "cell_type": "code",
   "execution_count": 42,
   "id": "7a291574",
   "metadata": {},
   "outputs": [
    {
     "name": "stdout",
     "output_type": "stream",
     "text": [
      "['name_1', 1, 2, 3, 'name_2', 5, 6, 7, 8, 'name_3', 9, 10, 11, 12, 'name_4']\n"
     ]
    }
   ],
   "source": [
    "input_list_1 = input_list + [\"name_4\"]\n",
    "print (input_list_1)"
   ]
  },
  {
   "cell_type": "markdown",
   "id": "0ccb6438",
   "metadata": {},
   "source": [
    "* Add element 4 at 4th index of the input_list "
   ]
  },
  {
   "cell_type": "code",
   "execution_count": 43,
   "id": "609a555f",
   "metadata": {},
   "outputs": [
    {
     "name": "stdout",
     "output_type": "stream",
     "text": [
      "['name_1', 1, 2, 3, 'name_2', 5, 6, 7, 8, 'name_3', 9, 10, 11, 12, 'name_4', 13, 14, 15, 16]\n"
     ]
    }
   ],
   "source": [
    "input_list_2 = input_list_1 + [13,14,15,16]\n",
    "print (input_list_2)"
   ]
  },
  {
   "cell_type": "markdown",
   "id": "f45fa1af",
   "metadata": {},
   "source": [
    "* Add elements 13,14,15,16 at the end of the input_list"
   ]
  },
  {
   "cell_type": "code",
   "execution_count": 44,
   "id": "306413ac",
   "metadata": {},
   "outputs": [
    {
     "name": "stdout",
     "output_type": "stream",
     "text": [
      "['name_1', 1, 2, 3, 'name_2', 5, 6, 7, 8, 'name_3', 9, 10, 11, 12, 'name_4', 13, 14, 15, 16]\n"
     ]
    }
   ],
   "source": [
    "input_list_2 = input_list_1 + [13,14,15,16]\n",
    "print (input_list_2)"
   ]
  },
  {
   "cell_type": "markdown",
   "id": "210ab9be",
   "metadata": {},
   "source": [
    "* Show the index position of \"name_2\" from input_list"
   ]
  },
  {
   "cell_type": "code",
   "execution_count": 48,
   "id": "85f035f6",
   "metadata": {},
   "outputs": [
    {
     "data": {
      "text/plain": [
       "['name_2', 5, 6, 7, 8, 'name_3', 9, 10, 11, 12]"
      ]
     },
     "execution_count": 48,
     "metadata": {},
     "output_type": "execute_result"
    }
   ],
   "source": [
    "input_list [4:]\n"
   ]
  },
  {
   "cell_type": "markdown",
   "id": "7417a5cf",
   "metadata": {},
   "source": [
    "* extract all the element from 5th index to before the index position of \"name_3\" from input_list"
   ]
  },
  {
   "cell_type": "code",
   "execution_count": 51,
   "id": "3573dbdc",
   "metadata": {},
   "outputs": [
    {
     "data": {
      "text/plain": [
       "[5, 6, 7, 8]"
      ]
     },
     "execution_count": 51,
     "metadata": {},
     "output_type": "execute_result"
    }
   ],
   "source": [
    "input_list [5:9]\n"
   ]
  },
  {
   "cell_type": "markdown",
   "id": "af33fc69",
   "metadata": {},
   "source": [
    "* Create a new list named as list_1 where the elements are 1,8,9,10,7,14,7,5,6,8,1,2,50,47,8,12,4,6,3,10,1,4"
   ]
  },
  {
   "cell_type": "code",
   "execution_count": 68,
   "id": "dfdbda39",
   "metadata": {},
   "outputs": [
    {
     "name": "stdout",
     "output_type": "stream",
     "text": [
      "[1, 8, 9, 10, 7, 14, 7, 5, 6, 8, 1, 2, 50, 47, 8, 12, 4, 6, 3, 10, 1, 4]\n"
     ]
    }
   ],
   "source": [
    "list_1 = [1,8,9,10,7,14,7,5,6,8,1,2,50,47,8,12,4,6,3,10,1,4]\n",
    "print (list_1)"
   ]
  },
  {
   "cell_type": "markdown",
   "id": "9bc242c2",
   "metadata": {},
   "source": [
    "* Find the minnimun number of the list_1"
   ]
  },
  {
   "cell_type": "code",
   "execution_count": 56,
   "id": "9b44aa48",
   "metadata": {},
   "outputs": [
    {
     "data": {
      "text/plain": [
       "1"
      ]
     },
     "execution_count": 56,
     "metadata": {},
     "output_type": "execute_result"
    }
   ],
   "source": [
    "min(list_1)"
   ]
  },
  {
   "cell_type": "markdown",
   "id": "58e955ef",
   "metadata": {},
   "source": [
    "* Find the maximum number of the list_1"
   ]
  },
  {
   "cell_type": "code",
   "execution_count": 57,
   "id": "75c910a7",
   "metadata": {},
   "outputs": [
    {
     "data": {
      "text/plain": [
       "50"
      ]
     },
     "execution_count": 57,
     "metadata": {},
     "output_type": "execute_result"
    }
   ],
   "source": [
    "max(list_1)"
   ]
  },
  {
   "cell_type": "markdown",
   "id": "79d7798a",
   "metadata": {},
   "source": [
    "* Count how many time 8,7 and 4 Occurred in list_1"
   ]
  },
  {
   "cell_type": "code",
   "execution_count": 64,
   "id": "49632cfc",
   "metadata": {},
   "outputs": [
    {
     "name": "stdout",
     "output_type": "stream",
     "text": [
      "3\n",
      "2\n",
      "2\n"
     ]
    }
   ],
   "source": [
    "list_count_8 = list_1.count(8)\n",
    "list_count_7 = list_1.count(7)\n",
    "list_count_4 = list_1.count(4)\n",
    "print (list_count_8)\n",
    "print (list_count_7)\n",
    "print (list_count_4)"
   ]
  },
  {
   "cell_type": "markdown",
   "id": "d9c97965",
   "metadata": {},
   "source": [
    "* Remove the last element of list_1"
   ]
  },
  {
   "cell_type": "code",
   "execution_count": 75,
   "id": "515a15b9",
   "metadata": {},
   "outputs": [
    {
     "name": "stdout",
     "output_type": "stream",
     "text": [
      "[1, 8, 9, 10, 7, 14, 7, 5, 6, 8, 1, 2, 50, 47, 8, 12, 4, 6, 3, 10]\n",
      "[1, 8, 9, 10, 7, 14, 7, 5, 6, 8, 1, 2, 50, 47, 8, 12, 4, 6, 3]\n"
     ]
    }
   ],
   "source": [
    "print (list_1)\n",
    "del list_1 [-1]\n",
    "print (list_1)"
   ]
  },
  {
   "cell_type": "markdown",
   "id": "a2ac61d8",
   "metadata": {},
   "source": [
    "* Remove the elements from 6th to 10th index of the list_1"
   ]
  },
  {
   "cell_type": "code",
   "execution_count": 85,
   "id": "c21b9a3b",
   "metadata": {},
   "outputs": [
    {
     "name": "stdout",
     "output_type": "stream",
     "text": [
      "[1, 14, 1, 2, 50, 47]\n"
     ]
    }
   ],
   "source": [
    "del list_1 [6:10]\n",
    "print (list_1)"
   ]
  },
  {
   "cell_type": "markdown",
   "id": "1741a38d",
   "metadata": {},
   "source": [
    "* Remove element 8 (only the first occured) from the list_1"
   ]
  },
  {
   "cell_type": "code",
   "execution_count": 90,
   "id": "ef6ca942",
   "metadata": {},
   "outputs": [
    {
     "name": "stdout",
     "output_type": "stream",
     "text": [
      "[1, 8, 9, 10, 7, 14, 7, 5, 6, 8, 1, 2, 50, 47, 8, 12, 4, 6, 3, 10, 1, 4]\n",
      "[1, 9, 10, 7, 14, 7, 5, 6, 8, 1, 2, 50, 47, 8, 12, 4, 6, 3, 10, 1, 4]\n"
     ]
    }
   ],
   "source": [
    "list_1 = [1,8,9,10,7,14,7,5,6,8,1,2,50,47,8,12,4,6,3,10,1,4]\n",
    "print (list_1)\n",
    "del list_1 [1]\n",
    "print (list_1)"
   ]
  },
  {
   "cell_type": "markdown",
   "id": "abe404bd",
   "metadata": {},
   "source": [
    "* What is the second largest element from the list_1"
   ]
  },
  {
   "cell_type": "code",
   "execution_count": 95,
   "id": "b45a7c67",
   "metadata": {},
   "outputs": [
    {
     "data": {
      "text/plain": [
       "[1, 1, 1, 2, 3, 4, 4, 5, 6, 6, 7, 7, 8, 8, 9, 10, 10, 50]"
      ]
     },
     "execution_count": 95,
     "metadata": {},
     "output_type": "execute_result"
    }
   ],
   "source": [
    "list_1.sort()\n",
    "list_1\n",
    "\n",
    "del list_1[-2]\n",
    "list_1"
   ]
  },
  {
   "cell_type": "code",
   "execution_count": null,
   "id": "26e5a909",
   "metadata": {},
   "outputs": [],
   "source": []
  }
 ],
 "metadata": {
  "kernelspec": {
   "display_name": "Python 3 (ipykernel)",
   "language": "python",
   "name": "python3"
  },
  "language_info": {
   "codemirror_mode": {
    "name": "ipython",
    "version": 3
   },
   "file_extension": ".py",
   "mimetype": "text/x-python",
   "name": "python",
   "nbconvert_exporter": "python",
   "pygments_lexer": "ipython3",
   "version": "3.9.7"
  }
 },
 "nbformat": 4,
 "nbformat_minor": 5
}
