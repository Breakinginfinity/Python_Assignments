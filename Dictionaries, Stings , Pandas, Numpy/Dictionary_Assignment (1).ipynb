{
 "cells": [
  {
   "cell_type": "markdown",
   "id": "75478290",
   "metadata": {},
   "source": [
    "* Define a Dictionary named as 'planet_size' where keys and values are given below<br>\n",
    "\"Mercury\": 4879.4, \"Venus\":12104, \"Earth\":12756, \"Mars\":6779, \"Jupiter\":142800, \"Saturn\":120660, \"Uranus\":51118"
   ]
  },
  {
   "cell_type": "code",
   "execution_count": 2,
   "id": "8052e292",
   "metadata": {},
   "outputs": [
    {
     "data": {
      "text/plain": [
       "{'Mercury': 4879.4,\n",
       " 'Venus': 12104,\n",
       " 'Earth': 12756,\n",
       " 'Mars': 6779,\n",
       " 'Jupiter': 142800,\n",
       " 'Saturn': 120660,\n",
       " 'Uranus': 51118}"
      ]
     },
     "execution_count": 2,
     "metadata": {},
     "output_type": "execute_result"
    }
   ],
   "source": [
    "planet_size = {\"Mercury\": 4879.4, \"Venus\":12104, \"Earth\":12756, \"Mars\":6779, \"Jupiter\":142800, \"Saturn\":120660, \"Uranus\":51118}\n",
    "planet_size"
   ]
  },
  {
   "cell_type": "markdown",
   "id": "11e5d465",
   "metadata": {},
   "source": [
    "* Show the keys of the dictionary planet_size"
   ]
  },
  {
   "cell_type": "code",
   "execution_count": 6,
   "id": "1f3730de",
   "metadata": {},
   "outputs": [
    {
     "data": {
      "text/plain": [
       "dict_keys(['Mercury', 'Venus', 'Earth', 'Mars', 'Jupiter', 'Saturn', 'Uranus'])"
      ]
     },
     "execution_count": 6,
     "metadata": {},
     "output_type": "execute_result"
    }
   ],
   "source": [
    "planet_size.keys()"
   ]
  },
  {
   "cell_type": "markdown",
   "id": "40733ab4",
   "metadata": {},
   "source": [
    "* Show the Values of the dictionary planet_size"
   ]
  },
  {
   "cell_type": "code",
   "execution_count": 7,
   "id": "b90b0fd0",
   "metadata": {},
   "outputs": [
    {
     "data": {
      "text/plain": [
       "dict_values([4879.4, 12104, 12756, 6779, 142800, 120660, 51118])"
      ]
     },
     "execution_count": 7,
     "metadata": {},
     "output_type": "execute_result"
    }
   ],
   "source": [
    "planet_size.values()"
   ]
  },
  {
   "cell_type": "markdown",
   "id": "93cfc2e6",
   "metadata": {},
   "source": [
    "* Show the size of the planets Jupiter and Venus"
   ]
  },
  {
   "cell_type": "code",
   "execution_count": 19,
   "id": "590ab263",
   "metadata": {},
   "outputs": [
    {
     "name": "stdout",
     "output_type": "stream",
     "text": [
      "(142800, 12104)\n"
     ]
    }
   ],
   "source": [
    "x = planet_size['Jupiter'], planet_size['Venus']\n",
    "print(x)\n"
   ]
  },
  {
   "cell_type": "markdown",
   "id": "a8d16839",
   "metadata": {},
   "source": [
    "* Add a new planet \"Neptune\" in the dictionary planet_size, whose size is 49528, then print the dictionary<br>"
   ]
  },
  {
   "cell_type": "code",
   "execution_count": 21,
   "id": "1d6ce862",
   "metadata": {},
   "outputs": [
    {
     "data": {
      "text/plain": [
       "{'Mercury': 4879.4,\n",
       " 'Venus': 12104,\n",
       " 'Earth': 12756,\n",
       " 'Mars': 6779,\n",
       " 'Jupiter': 142800,\n",
       " 'Saturn': 120660,\n",
       " 'Uranus': 51118,\n",
       " 'Neptune': 49528}"
      ]
     },
     "execution_count": 21,
     "metadata": {},
     "output_type": "execute_result"
    }
   ],
   "source": [
    "planet_size.update( {'Neptune' : 49528} )\n",
    "\n",
    "planet_size\n"
   ]
  },
  {
   "cell_type": "markdown",
   "id": "b4b480cf",
   "metadata": {},
   "source": [
    "* Update \"Earth' keys value by 12800 in Dictionary planet_size"
   ]
  },
  {
   "cell_type": "code",
   "execution_count": 22,
   "id": "c7c2280c",
   "metadata": {},
   "outputs": [
    {
     "data": {
      "text/plain": [
       "{'Mercury': 4879.4,\n",
       " 'Venus': 12104,\n",
       " 'Earth': 12800,\n",
       " 'Mars': 6779,\n",
       " 'Jupiter': 142800,\n",
       " 'Saturn': 120660,\n",
       " 'Uranus': 51118,\n",
       " 'Neptune': 49528}"
      ]
     },
     "execution_count": 22,
     "metadata": {},
     "output_type": "execute_result"
    }
   ],
   "source": [
    "planet_size.update( {'Earth' : 12800} )\n",
    "\n",
    "planet_size\n"
   ]
  },
  {
   "cell_type": "markdown",
   "id": "f33b91a2",
   "metadata": {},
   "source": [
    "* Delete the key 'Venus' and its value from the dictionary planet_size."
   ]
  },
  {
   "cell_type": "code",
   "execution_count": 28,
   "id": "aa297ede",
   "metadata": {},
   "outputs": [
    {
     "data": {
      "text/plain": [
       "12104"
      ]
     },
     "execution_count": 28,
     "metadata": {},
     "output_type": "execute_result"
    }
   ],
   "source": [
    "removed_value_venus = planet_size.pop('Venus', 12104)\n",
    "removed_value_venus"
   ]
  },
  {
   "cell_type": "markdown",
   "id": "597034a4",
   "metadata": {},
   "source": [
    "* Define a new dictionary named as country_data with the below cities population\n",
    "```\n",
    "    \"India\":{'Mumbai':18978000,'Delhi':15926000,'Kolkata':14787000},\n",
    "    \"United State\":{\"New York\":19354922,\"Los Angeles\":12815475,\"Chicago\":8675982},\n",
    "    \"United Kingdom\":{\"London\":8567000,\"Birmingham\":2285000,\"Manchester\":2230000},\n",
    "    \"Germany\":{\"Berlin\":3406000,\"Stuttgart\":2944700,\"Frankfurt\":2895000}\n",
    "```"
   ]
  },
  {
   "cell_type": "code",
   "execution_count": 1,
   "id": "c12f78d3",
   "metadata": {},
   "outputs": [
    {
     "data": {
      "text/plain": [
       "{'India': {'Mumbai': 18978000, 'Delhi': 15926000, 'Kolkata': 14787000},\n",
       " 'United State': {'New York': 19354922,\n",
       "  'Los Angeles': 12815475,\n",
       "  'Chicago': 8675982},\n",
       " 'United Kingdom': {'London': 8567000,\n",
       "  'Birmingham': 2285000,\n",
       "  'Manchester': 2230000},\n",
       " 'Germany': {'Berlin': 3406000, 'Stuttgart': 2944700, 'Frankfurt': 2895000}}"
      ]
     },
     "execution_count": 1,
     "metadata": {},
     "output_type": "execute_result"
    }
   ],
   "source": [
    "This_Dict_Country = {\"India\":{'Mumbai':18978000,'Delhi':15926000,'Kolkata':14787000},\n",
    "  \"United State\":{\"New York\":19354922,\"Los Angeles\":12815475,\"Chicago\":8675982},\n",
    "  \"United Kingdom\":{\"London\":8567000,\"Birmingham\":2285000,\"Manchester\":2230000},\n",
    "  \"Germany\":{\"Berlin\":3406000,\"Stuttgart\":2944700,\"Frankfurt\":2895000}}\n",
    "\n",
    "This_Dict_Country"
   ]
  },
  {
   "cell_type": "markdown",
   "id": "2e4a7fad",
   "metadata": {},
   "source": [
    "* What is the population of city Delhi in India"
   ]
  },
  {
   "cell_type": "code",
   "execution_count": 2,
   "id": "c31cfa2e",
   "metadata": {},
   "outputs": [
    {
     "name": "stdout",
     "output_type": "stream",
     "text": [
      "15926000\n"
     ]
    }
   ],
   "source": [
    "y = This_Dict_Country ['India'] ['Delhi']\n",
    "print(y)"
   ]
  },
  {
   "cell_type": "markdown",
   "id": "bd0f1c93",
   "metadata": {},
   "source": [
    "* Add one more city Chennai under Country India, whose population is 7163000"
   ]
  },
  {
   "cell_type": "code",
   "execution_count": 6,
   "id": "07c7f6ab",
   "metadata": {},
   "outputs": [
    {
     "data": {
      "text/plain": [
       "{'Mumbai': 18978000,\n",
       " 'Delhi': 15926000,\n",
       " 'Kolkata': 14787000,\n",
       " 'Chennai': 7163000}"
      ]
     },
     "execution_count": 6,
     "metadata": {},
     "output_type": "execute_result"
    }
   ],
   "source": [
    "This_Dict_Country ['India'] ['Chennai'] = 7163000\n",
    "This_Dict_Country ['India']"
   ]
  },
  {
   "cell_type": "markdown",
   "id": "c4720ec7",
   "metadata": {},
   "source": [
    "* What is the population of the city Berlin in Germany"
   ]
  },
  {
   "cell_type": "code",
   "execution_count": 7,
   "id": "4e0a3ee9",
   "metadata": {},
   "outputs": [
    {
     "data": {
      "text/plain": [
       "3406000"
      ]
     },
     "execution_count": 7,
     "metadata": {},
     "output_type": "execute_result"
    }
   ],
   "source": [
    "This_Dict_Country ['Germany'] ['Berlin']"
   ]
  },
  {
   "cell_type": "markdown",
   "id": "f7404cb7",
   "metadata": {},
   "source": [
    "* What are the names of the citis in United States and Germany"
   ]
  },
  {
   "cell_type": "code",
   "execution_count": 14,
   "id": "a10358f9",
   "metadata": {},
   "outputs": [
    {
     "data": {
      "text/plain": [
       "{'New York': 19354922, 'Los Angeles': 12815475, 'Chicago': 8675982}"
      ]
     },
     "execution_count": 14,
     "metadata": {},
     "output_type": "execute_result"
    }
   ],
   "source": [
    "This_Dict_Country ['Germany'] \n",
    "This_Dict_Country ['United State']"
   ]
  },
  {
   "cell_type": "markdown",
   "id": "242d0856",
   "metadata": {},
   "source": [
    "* What is the population of the city Chicago in United State"
   ]
  },
  {
   "cell_type": "code",
   "execution_count": 15,
   "id": "beeb73e6",
   "metadata": {},
   "outputs": [
    {
     "data": {
      "text/plain": [
       "8675982"
      ]
     },
     "execution_count": 15,
     "metadata": {},
     "output_type": "execute_result"
    }
   ],
   "source": [
    "This_Dict_Country ['United State'] ['Chicago']"
   ]
  },
  {
   "cell_type": "markdown",
   "id": "99a25121",
   "metadata": {},
   "source": [
    "* What is the population of the city Manchester in United Kingdom"
   ]
  },
  {
   "cell_type": "code",
   "execution_count": 16,
   "id": "8b7dba91",
   "metadata": {},
   "outputs": [
    {
     "data": {
      "text/plain": [
       "2230000"
      ]
     },
     "execution_count": 16,
     "metadata": {},
     "output_type": "execute_result"
    }
   ],
   "source": [
    "This_Dict_Country ['United Kingdom'] ['Manchester']"
   ]
  },
  {
   "cell_type": "code",
   "execution_count": null,
   "id": "8e7c817b",
   "metadata": {},
   "outputs": [],
   "source": []
  }
 ],
 "metadata": {
  "kernelspec": {
   "display_name": "Python 3 (ipykernel)",
   "language": "python",
   "name": "python3"
  },
  "language_info": {
   "codemirror_mode": {
    "name": "ipython",
    "version": 3
   },
   "file_extension": ".py",
   "mimetype": "text/x-python",
   "name": "python",
   "nbconvert_exporter": "python",
   "pygments_lexer": "ipython3",
   "version": "3.9.7"
  }
 },
 "nbformat": 4,
 "nbformat_minor": 5
}
