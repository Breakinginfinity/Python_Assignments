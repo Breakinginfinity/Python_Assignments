{
 "cells": [
  {
   "cell_type": "markdown",
   "id": "15f99646",
   "metadata": {},
   "source": [
    "* Define a string named as input_string like \"This is the introduction of strings in Python Programming\""
   ]
  },
  {
   "cell_type": "code",
   "execution_count": null,
   "id": "44fcef15",
   "metadata": {},
   "outputs": [],
   "source": [
    "Input_String = \"This is the introduction of strings in Python Programming\"\n",
    "Input_String"
   ]
  },
  {
   "cell_type": "markdown",
   "id": "13f6d408",
   "metadata": {},
   "source": [
    "* What is the length of the input_string"
   ]
  },
  {
   "cell_type": "code",
   "execution_count": null,
   "id": "3502e983",
   "metadata": {},
   "outputs": [],
   "source": [
    "len(Input_String)"
   ]
  },
  {
   "cell_type": "markdown",
   "id": "a80de52b",
   "metadata": {},
   "source": [
    "* How many times \"t\" occured in input_string including capital letters"
   ]
  },
  {
   "cell_type": "code",
   "execution_count": null,
   "id": "165bbe48",
   "metadata": {},
   "outputs": [],
   "source": [
    "Input_String.lower().count('t')"
   ]
  },
  {
   "cell_type": "markdown",
   "id": "9052e8f1",
   "metadata": {},
   "source": [
    "* Shows the index number of \"Python\" in input_string"
   ]
  },
  {
   "cell_type": "code",
   "execution_count": null,
   "id": "5920e660",
   "metadata": {},
   "outputs": [],
   "source": [
    "Input_String.index('Python')"
   ]
  },
  {
   "cell_type": "markdown",
   "id": "0ce6bb8c",
   "metadata": {},
   "source": [
    "* Check if the input_string started with \"P\" and \"T\""
   ]
  },
  {
   "cell_type": "code",
   "execution_count": null,
   "id": "abc0c165",
   "metadata": {},
   "outputs": [],
   "source": [
    "Input_String.startswith(\"P\")\n",
    "Input_String.startswith(\"T\")\n",
    "Print()"
   ]
  },
  {
   "cell_type": "markdown",
   "id": "1037d137",
   "metadata": {},
   "source": [
    "* Check if the input_string ended with \"s\" and \"g\""
   ]
  },
  {
   "cell_type": "code",
   "execution_count": null,
   "id": "ceffe58f",
   "metadata": {},
   "outputs": [],
   "source": [
    "Input_String.endswith(\"s\")\n",
    "Input_String.endswith(\"g\")\n",
    "print()"
   ]
  },
  {
   "cell_type": "markdown",
   "id": "d6d64f60",
   "metadata": {},
   "source": [
    "* Print the character from input_string at position 10"
   ]
  },
  {
   "cell_type": "code",
   "execution_count": null,
   "id": "8ef267df",
   "metadata": {},
   "outputs": [],
   "source": [
    "Input_String[10]"
   ]
  },
  {
   "cell_type": "markdown",
   "id": "d9691878",
   "metadata": {},
   "source": [
    "* Print the characters from input_string at position 28 to 44"
   ]
  },
  {
   "cell_type": "code",
   "execution_count": null,
   "id": "694fe014",
   "metadata": {},
   "outputs": [],
   "source": [
    "Input_String[28:44]"
   ]
  },
  {
   "cell_type": "markdown",
   "id": "7d8d6707",
   "metadata": {},
   "source": [
    "* Return all the characters in lower case"
   ]
  },
  {
   "cell_type": "code",
   "execution_count": null,
   "id": "c3f10bfc",
   "metadata": {},
   "outputs": [],
   "source": [
    "Input_String.lower()"
   ]
  },
  {
   "cell_type": "markdown",
   "id": "d3d986c9",
   "metadata": {},
   "source": [
    "* Return all the character in upper case"
   ]
  },
  {
   "cell_type": "code",
   "execution_count": null,
   "id": "49486e1f",
   "metadata": {},
   "outputs": [],
   "source": [
    "Input_String.upper()"
   ]
  },
  {
   "cell_type": "markdown",
   "id": "016d7864",
   "metadata": {},
   "source": [
    "* Capitalize below text.<br>\n",
    "text_1 = \"hello, WelcOme to PyThon\""
   ]
  },
  {
   "cell_type": "code",
   "execution_count": null,
   "id": "a59d653a",
   "metadata": {},
   "outputs": [],
   "source": [
    "\n",
    "text_1.capitalize(\"hello, WelcOme to PyThon\")"
   ]
  },
  {
   "cell_type": "markdown",
   "id": "f455e55e",
   "metadata": {},
   "source": [
    "Remove any whitespace from the beginning of the below string<br>\n",
    "```\n",
    "text_2=\"    Python\"\n",
    "````"
   ]
  },
  {
   "cell_type": "code",
   "execution_count": null,
   "id": "562f43fe",
   "metadata": {},
   "outputs": [],
   "source": [
    "text_2=\"    Python\"\n",
    "text_2.lstrip()"
   ]
  },
  {
   "cell_type": "markdown",
   "id": "7b10d728",
   "metadata": {},
   "source": [
    "Remove any whitespace from the end of the below string<br>\n",
    "```\n",
    "text_3=\"Python      \"\n",
    "````"
   ]
  },
  {
   "cell_type": "code",
   "execution_count": null,
   "id": "93416adb",
   "metadata": {},
   "outputs": [],
   "source": [
    "text_3=\"Python      \"\n",
    "text_2.rstrip()"
   ]
  },
  {
   "cell_type": "markdown",
   "id": "6ae7ae81",
   "metadata": {},
   "source": [
    "* Concatenates the below list of strings together to create a new string joined with the space delimiter.<br>\n",
    "text_4=[\"I'm\", \"Learning\", \"Python\", \".\", \"It\", \"is\", \"awesome\", \".\"]"
   ]
  },
  {
   "cell_type": "code",
   "execution_count": null,
   "id": "3dee4e32",
   "metadata": {},
   "outputs": [],
   "source": [
    "text_4 = [\"I'm\", \"Learning\", \"Python\", \"It\", \"is\", \"awesome\"]\n",
    "\" \".join(text_4)"
   ]
  },
  {
   "cell_type": "markdown",
   "id": "f0ceceec",
   "metadata": {},
   "source": [
    "* Split the below sentence into a list of strings<br>\n",
    "text_5=\"hello how are you today\""
   ]
  },
  {
   "cell_type": "code",
   "execution_count": null,
   "id": "6d4095b6",
   "metadata": {},
   "outputs": [],
   "source": [
    "text_5=\"hello how are you today\"\n",
    "text_5.split(\" \")"
   ]
  },
  {
   "cell_type": "markdown",
   "id": "70818a5b",
   "metadata": {},
   "source": [
    "* Replace \"going\" by \"doing\" to the below string<br>\n",
    "text_6 = \"Hello how are you going\""
   ]
  },
  {
   "cell_type": "code",
   "execution_count": null,
   "id": "50180786",
   "metadata": {},
   "outputs": [],
   "source": [
    "text_6 = \"Hello how are you going\"\n",
    "text_6.replace(\"going\" , \"doing\")"
   ]
  }
 ],
 "metadata": {
  "kernelspec": {
   "display_name": "Python 3 (ipykernel)",
   "language": "python",
   "name": "python3"
  },
  "language_info": {
   "codemirror_mode": {
    "name": "ipython",
    "version": 3
   },
   "file_extension": ".py",
   "mimetype": "text/x-python",
   "name": "python",
   "nbconvert_exporter": "python",
   "pygments_lexer": "ipython3",
   "version": "3.9.7"
  }
 },
 "nbformat": 4,
 "nbformat_minor": 5
}
